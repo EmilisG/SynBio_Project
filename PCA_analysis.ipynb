{
 "cells": [
  {
   "cell_type": "code",
   "execution_count": null,
   "metadata": {},
   "outputs": [],
   "source": [
    "print(\"This is the test for initial commit!\")"
   ]
  },
  {
   "cell_type": "code",
   "execution_count": null,
   "metadata": {},
   "outputs": [],
   "source": [
    "import pandas as pd\n",
    "print(\"Pandas imported successfully, version: \"+pd.__version__)\n",
    "import statsmodels as sm\n",
    "print(\"Statsmodels imported successfully, version: \"+sm.__version__)\n",
    "\n",
    "#Plotly packages\n",
    "import plotly.graph_objects as go\n",
    "print(\"Plotly function imported succesfully\")\n",
    "import plotly.express as px\n",
    "print(\"Plotly express imported succesfully\")\n",
    "from plotly.subplots import make_subplots\n",
    "from plotly.offline import download_plotlyjs, init_notebook_mode, plot, iplot\n",
    "import plotly as py\n",
    "import plotly.figure_factory as ff\n",
    "\n",
    "#Matplotlib packages\n",
    "import matplotlib.pyplot as plt\n",
    "\n",
    "#Numpy + Statistics\n",
    "import numpy as np\n",
    "print(\"Numpy imported successfully, version: \"+np.__version__)\n",
    "\n",
    "from statsmodels.graphics.gofplots import qqplot\n",
    "\n",
    "#Define needed function in the code\n",
    "def namestr(obj, namespace):\n",
    "    return [name for name in namespace if namespace[name] is obj]"
   ]
  },
  {
   "cell_type": "code",
   "execution_count": null,
   "metadata": {},
   "outputs": [],
   "source": [
    "#Import dataset\n",
    "\n",
    "data_all = pd.read_csv('/Users/mazutislab/Desktop/SynBio/US_Accidents_May19.csv')"
   ]
  },
  {
   "cell_type": "code",
   "execution_count": null,
   "metadata": {},
   "outputs": [],
   "source": [
    "#Selecting only needed data in the given dataset\n",
    "data_cleaned = data_all[[\"Severity\", \"Temperature(F)\", \"Humidity(%)\", \"Pressure(in)\", \"Visibility(mi)\", \"Wind_Speed(mph)\", \n",
    "                        \"Precipitation(in)\"]]\n",
    "data_cleaned.reset_index()\n",
    "type(data_cleaned)\n",
    "\n",
    "#Convert Temperature in Fahrenheit to Celsius\n",
    "def fahr_to_celsius(temp_fahr):\n",
    "    \"\"\"Convert Fahrenheit to Celsius and Return Celsius conversion of input\"\"\"\n",
    "    temp_celsius = (temp_fahr - 32) * 5 / 9\n",
    "    return temp_celsius\n",
    "\n",
    "data_cleaned[\"Temperature(C)\"] = (fahr_to_celsius(data_cleaned[\"Temperature(F)\"])).round(2)\n",
    "data_cleaned.drop(['Temperature(F)'], inplace = True, axis = 1)\n",
    "\n",
    "#Convert Pressure in inches of mercury to mbar\n",
    "data_cleaned[\"Pressure(mbar)\"] = data_cleaned[\"Pressure(in)\"]*0.033863886666667*1000\n",
    "data_cleaned.drop(['Pressure(in)'], inplace = True, axis = 1)\n",
    "\n",
    "#Convert Wind Speed in mph to kmh\n",
    "data_cleaned[\"Wind_Speed(kmh)\"] = data_cleaned[\"Wind_Speed(mph)\"]*1.609344\n",
    "data_cleaned.drop(['Wind_Speed(mph)'], inplace = True, axis = 1)\n",
    "\n",
    "#Convert Precipitation in inches to mm\n",
    "data_cleaned[\"Precipitation(mm)\"] = data_cleaned[\"Precipitation(in)\"]*25.4\n",
    "data_cleaned.drop(['Precipitation(in)'], inplace = True, axis = 1)\n",
    "\n",
    "#Convert Visibility in miles to km\n",
    "data_cleaned[\"Visibility(km)\"] = data_cleaned[\"Visibility(mi)\"]*1.609344\n",
    "data_cleaned.drop(['Visibility(mi)'], inplace = True, axis = 1)\n",
    "data_cleaned.head()\n",
    "\n",
    "\n",
    "\n",
    "data_cleaned = data_cleaned[data_cleaned['Severity'] >= 1]\n",
    "data_cleaned = data_cleaned.sort_values(by=['Severity'], ascending = True)\n",
    "data_cleaned.reset_index()\n",
    "data_cleaned.head()\n",
    "\n",
    "t_col = 'Temperature(C)'\n",
    "h_col = 'Humidity(%)'"
   ]
  },
  {
   "cell_type": "code",
   "execution_count": null,
   "metadata": {},
   "outputs": [],
   "source": [
    "#Cleaning data_set for PCA analysis\n",
    "\n",
    "data_cleaned_final = data_cleaned[data_cleaned['Temperature(C)'].between(-55, 50, inclusive = True)]\n",
    "\n",
    "data_cleaned_final = data_cleaned_final[data_cleaned_final['Pressure(mbar)'].between(950, 1055, inclusive = True)]\n",
    "\n",
    "data_cleaned_final = data_cleaned_final[data_cleaned_final['Wind_Speed(kmh)'].between(0, 150, inclusive = True)]\n",
    "\n",
    "data_cleaned_final = data_cleaned_final[data_cleaned_final['Visibility(km)'].between(0, 80, inclusive = True)]\n",
    "\n",
    "print(data_cleaned_final)"
   ]
  },
  {
   "cell_type": "code",
   "execution_count": null,
   "metadata": {},
   "outputs": [],
   "source": [
    "from sklearn.preprocessing import StandardScaler\n",
    "print('Succesful')\n",
    "\n",
    "data = data_cleaned_final.drop(columns=['Precipitation(mm)'])\n",
    "data = data.dropna()\n",
    "\n",
    "print(data)\n",
    "\n",
    "features = ['Humidity(%)', 'Temperature(C)', 'Pressure(mbar)', 'Wind_Speed(kmh)', 'Visibility(km)']\n",
    "index = data.index\n",
    "print(index)\n",
    "    \n",
    "\n",
    "# Separating out the features\n",
    "x = data.loc[:, features].values\n",
    "print(x)\n",
    "# Separating out the target\n",
    "y = data.loc[:,['Severity']].values\n",
    "print(y)\n",
    "# Standardizing the features\n",
    "x = StandardScaler().fit_transform(x)\n",
    "print(x)"
   ]
  },
  {
   "cell_type": "code",
   "execution_count": null,
   "metadata": {},
   "outputs": [],
   "source": [
    "print(data.loc[:,['Severity']])"
   ]
  },
  {
   "cell_type": "code",
   "execution_count": null,
   "metadata": {},
   "outputs": [],
   "source": [
    "#PCA\n",
    "\n",
    "from sklearn.decomposition import PCA\n",
    "pca = PCA(n_components=4)\n",
    "principalComponents = pca.fit_transform(x)\n",
    "principalDf = pd.DataFrame(data = principalComponents\n",
    "             , columns = ['principal component 1', \n",
    "                          'principal component 2', 'principal component 3', 'principal component 4'],)\n",
    "                           \n",
    "principalDf = principalDf.set_index(index)\n",
    "\n",
    "print(principalDf)\n",
    "print(pca.explained_variance_ratio_)\n"
   ]
  },
  {
   "cell_type": "code",
   "execution_count": null,
   "metadata": {},
   "outputs": [],
   "source": [
    "#Graph - Variance explained by principal components\n",
    "\n",
    "pca_x = ['Principal Component 1', 'Principal Component 2', 'Principal Component 3', 'Principal Component 4']\n",
    "\n",
    "fig = go.Figure([go.Bar(x=pca_x, y=pca.explained_variance_ratio_)])\n",
    "\n",
    "fig.update_layout(\n",
    "    title=\"Variance explained by principal components\",\n",
    "    xaxis_title=\"Principal Components\",\n",
    "    yaxis_title=\"Variance explained\")\n",
    "\n",
    "fig.show()"
   ]
  },
  {
   "cell_type": "code",
   "execution_count": null,
   "metadata": {
    "scrolled": true
   },
   "outputs": [],
   "source": [
    "finalDf = pd.concat([principalDf, data.loc[:,['Severity']]], axis = 1)"
   ]
  },
  {
   "cell_type": "code",
   "execution_count": null,
   "metadata": {
    "scrolled": false
   },
   "outputs": [],
   "source": [
    "#PCA with 3 principal components\n",
    "\n",
    "from mpl_toolkits import mplot3d\n",
    "\n",
    "\n",
    "fig = plt.figure(figsize = (8,8))\n",
    "ax = plt.axes(projection='3d')\n",
    "ax.set_xlabel('Principal Component 1', fontsize = 15)\n",
    "ax.set_ylabel('Principal Component 2', fontsize = 15)\n",
    "ax.set_zlabel('Principal Component 3', fontsize = 15)\n",
    "ax.set_title('3 component PCA', fontsize = 20)\n",
    "targets = [1, 2, 3, 4]\n",
    "colors = ['r', 'g', 'b', 'y']\n",
    "for target, color in zip(targets,colors):\n",
    "    indicesToKeep = finalDf['Severity'] == target\n",
    "    ax.scatter3D(finalDf.loc[indicesToKeep, 'principal component 1']\n",
    "               , finalDf.loc[indicesToKeep, 'principal component 2']\n",
    "               , finalDf.loc[indicesToKeep, 'principal component 3']\n",
    "               , c = color\n",
    "               , s = 50, alpha = 0.3)\n",
    "ax.legend(targets)\n",
    "ax.grid()"
   ]
  },
  {
   "cell_type": "code",
   "execution_count": null,
   "metadata": {},
   "outputs": [],
   "source": [
    "#PCA with 2 principal components\n",
    "\n",
    "fig = plt.figure(figsize = (8,8))\n",
    "ax = fig.add_subplot(1,1,1)\n",
    "ax.set_xlabel('Principal Component 1', fontsize = 15)\n",
    "ax.set_ylabel('Principal Component 2', fontsize = 15)\n",
    "ax.set_title('2 component PCA', fontsize = 20)\n",
    "targets = [1, 2, 3, 4]\n",
    "colors = ['r', 'g', 'b', 'y']\n",
    "for target, color in zip(targets,colors):\n",
    "    indicesToKeep = finalDf['Severity'] == target\n",
    "    ax.scatter(finalDf.loc[indicesToKeep, 'principal component 1']\n",
    "               , finalDf.loc[indicesToKeep, 'principal component 2']\n",
    "               , c = color\n",
    "               , s = 50, alpha = 0.3)\n",
    "ax.legend(targets)\n",
    "ax.grid()"
   ]
  },
  {
   "cell_type": "code",
   "execution_count": null,
   "metadata": {},
   "outputs": [],
   "source": []
  }
 ],
 "metadata": {
  "kernelspec": {
   "display_name": "Python 3",
   "language": "python",
   "name": "python3"
  },
  "language_info": {
   "codemirror_mode": {
    "name": "ipython",
    "version": 3
   },
   "file_extension": ".py",
   "mimetype": "text/x-python",
   "name": "python",
   "nbconvert_exporter": "python",
   "pygments_lexer": "ipython3",
   "version": "3.7.4"
  }
 },
 "nbformat": 4,
 "nbformat_minor": 2
}
