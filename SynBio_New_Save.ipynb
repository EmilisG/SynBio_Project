{
 "cells": [
  {
   "cell_type": "code",
   "execution_count": null,
   "metadata": {},
   "outputs": [],
   "source": [
    "print(\"This is the test for initial commit!\")"
   ]
  },
  {
   "cell_type": "code",
   "execution_count": null,
   "metadata": {},
   "outputs": [],
   "source": [
    "import pandas as pd\n",
    "print(\"Pandas imported successfully, version: \"+pd.__version__)\n",
    "import statsmodels as sm\n",
    "print(\"Statsmodels imported successfully, version: \"+sm.__version__)\n",
    "import plotly.graph_objects as go\n",
    "print(\"Plotly function imported succesfully\")\n",
    "import plotly.express as px\n",
    "print(\"Plotly express imported succesfully\")\n",
    "from plotly.subplots import make_subplots"
   ]
  },
  {
   "cell_type": "code",
   "execution_count": null,
   "metadata": {},
   "outputs": [],
   "source": [
    "data_all = pd.read_csv('C:/Users/Laptop/Desktop/Repository_Syn_Bio/US_Accidents_May19.csv')"
   ]
  },
  {
   "cell_type": "code",
   "execution_count": null,
   "metadata": {},
   "outputs": [],
   "source": [
    "pd.set_option('display.max_columns', 50)\n",
    "data_all.head()"
   ]
  },
  {
   "cell_type": "code",
   "execution_count": null,
   "metadata": {},
   "outputs": [],
   "source": [
    "#Selecting only needed data in the given dataset\n",
    "data_cleaned = data_all[[\"Severity\", \"Temperature(F)\", \"Humidity(%)\", \"Pressure(in)\", \"Visibility(mi)\", \"Wind_Speed(mph)\", \n",
    "                        \"Precipitation(in)\"]]\n",
    "data_cleaned.reset_index()\n",
    "type(data_cleaned)\n",
    "\n",
    "#Convert Temperature in Fahrenheit to Celsius\n",
    "def fahr_to_celsius(temp_fahr):\n",
    "    \"\"\"Convert Fahrenheit to Celsius and Return Celsius conversion of input\"\"\"\n",
    "    temp_celsius = (temp_fahr - 32) * 5 / 9\n",
    "    return temp_celsius\n",
    "\n",
    "data_cleaned[\"Temperature_C\"] = (fahr_to_celsius(data_cleaned[\"Temperature(F)\"])).round(2)\n",
    "data_cleaned.drop(['Temperature(F)'], inplace = True, axis = 1)\n",
    "\n",
    "#Convert Pressure in inches of mercury to mbar\n",
    "data_cleaned[\"Pressure(mbar)\"] = data_cleaned[\"Pressure(in)\"]*0.033863886666667*1000\n",
    "data_cleaned.drop(['Pressure(in)'], inplace = True, axis = 1)\n",
    "\n",
    "#Convert Wind Speed in mph to kmh\n",
    "data_cleaned[\"Wind_Speed(kmh)\"] = data_cleaned[\"Wind_Speed(mph)\"]*1.609344\n",
    "data_cleaned.drop(['Wind_Speed(mph)'], inplace = True, axis = 1)\n",
    "\n",
    "#Convert Precipitation in inches to mm\n",
    "data_cleaned[\"Precipitation(mm)\"] = data_cleaned[\"Precipitation(in)\"]*25.4\n",
    "data_cleaned.drop(['Precipitation(in)'], inplace = True, axis = 1)\n",
    "\n",
    "#Convert Visibility in miles to km\n",
    "data_cleaned[\"Visibility(km)\"] = data_cleaned[\"Visibility(mi)\"]*1.609344\n",
    "data_cleaned.drop(['Visibility(mi)'], inplace = True, axis = 1)\n",
    "data_cleaned.head()"
   ]
  },
  {
   "cell_type": "code",
   "execution_count": null,
   "metadata": {
    "scrolled": true
   },
   "outputs": [],
   "source": [
    "data_cleaned = data_cleaned.sort_values(by=['Severity'], ascending = True)\n",
    "data_cleaned.head()"
   ]
  },
  {
   "cell_type": "code",
   "execution_count": null,
   "metadata": {},
   "outputs": [],
   "source": [
    "data_cleaned.describe()"
   ]
  },
  {
   "cell_type": "code",
   "execution_count": null,
   "metadata": {},
   "outputs": [],
   "source": [
    "fig = go.Figure(data=[go.Histogram(x=(data_cleaned['Severity']))])\n",
    "fig.show()"
   ]
  },
  {
   "cell_type": "code",
   "execution_count": null,
   "metadata": {},
   "outputs": [],
   "source": [
    "#Frequency of severities\n",
    "Severity_frequency = {}\n",
    "\n",
    "for i, u in enumerate(range(0,5)):\n",
    "    Severity_frequency['Severity'+ str(u)] = (data_cleaned[(data_cleaned['Severity']==i)]).shape[0]\n",
    "    \n",
    "print(Severity_frequency)"
   ]
  },
  {
   "cell_type": "code",
   "execution_count": null,
   "metadata": {},
   "outputs": [],
   "source": []
  }
 ],
 "metadata": {
  "kernelspec": {
   "display_name": "Python 3",
   "language": "python",
   "name": "python3"
  },
  "language_info": {
   "codemirror_mode": {
    "name": "ipython",
    "version": 3
   },
   "file_extension": ".py",
   "mimetype": "text/x-python",
   "name": "python",
   "nbconvert_exporter": "python",
   "pygments_lexer": "ipython3",
   "version": "3.7.3"
  }
 },
 "nbformat": 4,
 "nbformat_minor": 2
}
